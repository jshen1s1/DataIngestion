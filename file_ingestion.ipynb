{
 "cells": [
  {
   "cell_type": "code",
   "execution_count": 17,
   "metadata": {},
   "outputs": [
    {
     "data": {
      "text/plain": [
       "{'file_type': 'csv',\n",
       " 'dataset_name': 'testfile',\n",
       " 'file_name': 'full_spotify_playlist',\n",
       " 'table_name': 'edsurv',\n",
       " 'inbound_delimiter': ',',\n",
       " 'outbound_delimiter': '|',\n",
       " 'skip_leading_rows': 1,\n",
       " 'columns': ['pid', 'artist_name', 'artist_uri', 'track_name', 'track_uri']}"
      ]
     },
     "execution_count": 17,
     "metadata": {},
     "output_type": "execute_result"
    }
   ],
   "source": [
    "import utils\n",
    "import pandas as pd\n",
    "import dask.dataframe as dd\n",
    "\n",
    "config_data = utils.read_config_file(\"file.yaml\")\n",
    "config_data"
   ]
  },
  {
   "cell_type": "code",
   "execution_count": 18,
   "metadata": {},
   "outputs": [
    {
     "name": "stdout",
     "output_type": "stream",
     "text": [
      "CPU times: total: 26.2 s\n",
      "Wall time: 26.5 s\n"
     ]
    },
    {
     "data": {
      "text/html": [
       "<div>\n",
       "<style scoped>\n",
       "    .dataframe tbody tr th:only-of-type {\n",
       "        vertical-align: middle;\n",
       "    }\n",
       "\n",
       "    .dataframe tbody tr th {\n",
       "        vertical-align: top;\n",
       "    }\n",
       "\n",
       "    .dataframe thead th {\n",
       "        text-align: right;\n",
       "    }\n",
       "</style>\n",
       "<table border=\"1\" class=\"dataframe\">\n",
       "  <thead>\n",
       "    <tr style=\"text-align: right;\">\n",
       "      <th></th>\n",
       "      <th>pid</th>\n",
       "      <th>artist_name</th>\n",
       "      <th>artist_uri</th>\n",
       "      <th>track_name</th>\n",
       "      <th>track_uri</th>\n",
       "    </tr>\n",
       "  </thead>\n",
       "  <tbody>\n",
       "    <tr>\n",
       "      <th>0</th>\n",
       "      <td>35000</td>\n",
       "      <td>Marian Hill</td>\n",
       "      <td>1xHQO9GJIW9OXHxGBISYc5</td>\n",
       "      <td>Lovit</td>\n",
       "      <td>2Ag3LUfgpN6ymEMwDOqKdg</td>\n",
       "    </tr>\n",
       "    <tr>\n",
       "      <th>1</th>\n",
       "      <td>35000</td>\n",
       "      <td>Melody Gardot</td>\n",
       "      <td>2P1puQXmG48EVLBrHbum1J</td>\n",
       "      <td>Goodnite</td>\n",
       "      <td>6r1GKz2EZ5DsKGKnWT7uWp</td>\n",
       "    </tr>\n",
       "    <tr>\n",
       "      <th>2</th>\n",
       "      <td>35000</td>\n",
       "      <td>The xx</td>\n",
       "      <td>3iOvXCl6edW5Um0fXEBRXy</td>\n",
       "      <td>Islands</td>\n",
       "      <td>2SMn57cBVxoD4TArscpovk</td>\n",
       "    </tr>\n",
       "    <tr>\n",
       "      <th>3</th>\n",
       "      <td>35000</td>\n",
       "      <td>Ghost Loft</td>\n",
       "      <td>4fQHCuys7JZvaQzRvB1kPR</td>\n",
       "      <td>Seconds</td>\n",
       "      <td>7603o589huckPbiELnUKgu</td>\n",
       "    </tr>\n",
       "    <tr>\n",
       "      <th>4</th>\n",
       "      <td>35000</td>\n",
       "      <td>Wild Belle</td>\n",
       "      <td>4wHZkzWXD9GPr4RQAYjUcv</td>\n",
       "      <td>It's Too Late</td>\n",
       "      <td>4pDMkmUffwBvsuZuQx6lQo</td>\n",
       "    </tr>\n",
       "  </tbody>\n",
       "</table>\n",
       "</div>"
      ],
      "text/plain": [
       "     pid    artist_name              artist_uri     track_name  \\\n",
       "0  35000    Marian Hill  1xHQO9GJIW9OXHxGBISYc5          Lovit   \n",
       "1  35000  Melody Gardot  2P1puQXmG48EVLBrHbum1J       Goodnite   \n",
       "2  35000         The xx  3iOvXCl6edW5Um0fXEBRXy        Islands   \n",
       "3  35000     Ghost Loft  4fQHCuys7JZvaQzRvB1kPR        Seconds   \n",
       "4  35000     Wild Belle  4wHZkzWXD9GPr4RQAYjUcv  It's Too Late   \n",
       "\n",
       "                track_uri  \n",
       "0  2Ag3LUfgpN6ymEMwDOqKdg  \n",
       "1  6r1GKz2EZ5DsKGKnWT7uWp  \n",
       "2  2SMn57cBVxoD4TArscpovk  \n",
       "3  7603o589huckPbiELnUKgu  \n",
       "4  4pDMkmUffwBvsuZuQx6lQo  "
      ]
     },
     "execution_count": 18,
     "metadata": {},
     "output_type": "execute_result"
    }
   ],
   "source": [
    "%%time\n",
    "\n",
    "file_type = config_data['file_type']\n",
    "source_file = \"./src/\" + config_data['file_name'] + f'.{file_type}'\n",
    "df = pd.read_csv(source_file,decimal=config_data['inbound_delimiter'])\n",
    "df.head()"
   ]
  },
  {
   "cell_type": "code",
   "execution_count": 21,
   "metadata": {},
   "outputs": [
    {
     "name": "stdout",
     "output_type": "stream",
     "text": [
      "CPU times: total: 1 s\n",
      "Wall time: 997 ms\n"
     ]
    },
    {
     "data": {
      "text/html": [
       "<div>\n",
       "<style scoped>\n",
       "    .dataframe tbody tr th:only-of-type {\n",
       "        vertical-align: middle;\n",
       "    }\n",
       "\n",
       "    .dataframe tbody tr th {\n",
       "        vertical-align: top;\n",
       "    }\n",
       "\n",
       "    .dataframe thead th {\n",
       "        text-align: right;\n",
       "    }\n",
       "</style>\n",
       "<table border=\"1\" class=\"dataframe\">\n",
       "  <thead>\n",
       "    <tr style=\"text-align: right;\">\n",
       "      <th></th>\n",
       "      <th>pid</th>\n",
       "      <th>artist_name</th>\n",
       "      <th>artist_uri</th>\n",
       "      <th>track_name</th>\n",
       "      <th>track_uri</th>\n",
       "    </tr>\n",
       "  </thead>\n",
       "  <tbody>\n",
       "    <tr>\n",
       "      <th>0</th>\n",
       "      <td>35000</td>\n",
       "      <td>Marian Hill</td>\n",
       "      <td>1xHQO9GJIW9OXHxGBISYc5</td>\n",
       "      <td>Lovit</td>\n",
       "      <td>2Ag3LUfgpN6ymEMwDOqKdg</td>\n",
       "    </tr>\n",
       "    <tr>\n",
       "      <th>1</th>\n",
       "      <td>35000</td>\n",
       "      <td>Melody Gardot</td>\n",
       "      <td>2P1puQXmG48EVLBrHbum1J</td>\n",
       "      <td>Goodnite</td>\n",
       "      <td>6r1GKz2EZ5DsKGKnWT7uWp</td>\n",
       "    </tr>\n",
       "    <tr>\n",
       "      <th>2</th>\n",
       "      <td>35000</td>\n",
       "      <td>The xx</td>\n",
       "      <td>3iOvXCl6edW5Um0fXEBRXy</td>\n",
       "      <td>Islands</td>\n",
       "      <td>2SMn57cBVxoD4TArscpovk</td>\n",
       "    </tr>\n",
       "    <tr>\n",
       "      <th>3</th>\n",
       "      <td>35000</td>\n",
       "      <td>Ghost Loft</td>\n",
       "      <td>4fQHCuys7JZvaQzRvB1kPR</td>\n",
       "      <td>Seconds</td>\n",
       "      <td>7603o589huckPbiELnUKgu</td>\n",
       "    </tr>\n",
       "    <tr>\n",
       "      <th>4</th>\n",
       "      <td>35000</td>\n",
       "      <td>Wild Belle</td>\n",
       "      <td>4wHZkzWXD9GPr4RQAYjUcv</td>\n",
       "      <td>It's Too Late</td>\n",
       "      <td>4pDMkmUffwBvsuZuQx6lQo</td>\n",
       "    </tr>\n",
       "  </tbody>\n",
       "</table>\n",
       "</div>"
      ],
      "text/plain": [
       "     pid    artist_name              artist_uri     track_name  \\\n",
       "0  35000    Marian Hill  1xHQO9GJIW9OXHxGBISYc5          Lovit   \n",
       "1  35000  Melody Gardot  2P1puQXmG48EVLBrHbum1J       Goodnite   \n",
       "2  35000         The xx  3iOvXCl6edW5Um0fXEBRXy        Islands   \n",
       "3  35000     Ghost Loft  4fQHCuys7JZvaQzRvB1kPR        Seconds   \n",
       "4  35000     Wild Belle  4wHZkzWXD9GPr4RQAYjUcv  It's Too Late   \n",
       "\n",
       "                track_uri  \n",
       "0  2Ag3LUfgpN6ymEMwDOqKdg  \n",
       "1  6r1GKz2EZ5DsKGKnWT7uWp  \n",
       "2  2SMn57cBVxoD4TArscpovk  \n",
       "3  7603o589huckPbiELnUKgu  \n",
       "4  4pDMkmUffwBvsuZuQx6lQo  "
      ]
     },
     "execution_count": 21,
     "metadata": {},
     "output_type": "execute_result"
    }
   ],
   "source": [
    "%%time\n",
    "\n",
    "ddf = dd.read_csv(source_file,decimal=config_data['inbound_delimiter'])\n",
    "ddf.head()"
   ]
  },
  {
   "cell_type": "code",
   "execution_count": 22,
   "metadata": {},
   "outputs": [
    {
     "name": "stdout",
     "output_type": "stream",
     "text": [
      "column name and column length validation passed\n",
      "col validation passed\n"
     ]
    }
   ],
   "source": [
    "if utils.col_header_val(df,config_data):\n",
    "    print(\"col validation passed\")\n",
    "else:\n",
    "    print(\"validation failed\")"
   ]
  }
 ],
 "metadata": {
  "kernelspec": {
   "display_name": "Python 3",
   "language": "python",
   "name": "python3"
  },
  "language_info": {
   "codemirror_mode": {
    "name": "ipython",
    "version": 3
   },
   "file_extension": ".py",
   "mimetype": "text/x-python",
   "name": "python",
   "nbconvert_exporter": "python",
   "pygments_lexer": "ipython3",
   "version": "3.11.5"
  }
 },
 "nbformat": 4,
 "nbformat_minor": 2
}
